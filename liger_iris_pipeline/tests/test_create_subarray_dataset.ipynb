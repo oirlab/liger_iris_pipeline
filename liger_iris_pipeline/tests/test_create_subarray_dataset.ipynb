{
 "cells": [
  {
   "cell_type": "code",
   "execution_count": null,
   "metadata": {},
   "outputs": [],
   "source": [
    "import iris_pipeline\n",
    "iris_pipeline.monkeypatch_jwst_datamodels()\n",
    "\n",
    "import numpy as np"
   ]
  },
  {
   "cell_type": "code",
   "execution_count": null,
   "metadata": {},
   "outputs": [],
   "source": [
    "iris_pipeline.__file__"
   ]
  },
  {
   "cell_type": "markdown",
   "metadata": {},
   "source": [
    "The purpose of this notebook is to create a dataset with a full frame and relative subarrays\n",
    "\n",
    "## Prepare the raw science frame\n",
    "\n",
    "* Load raw science frame\n",
    "* Add `SUBARR_MAP` extension"
   ]
  },
  {
   "cell_type": "code",
   "execution_count": null,
   "metadata": {},
   "outputs": [],
   "source": [
    "%matplotlib inline\n",
    "import matplotlib.pyplot as plt"
   ]
  },
  {
   "cell_type": "code",
   "execution_count": null,
   "metadata": {},
   "outputs": [],
   "source": [
    "from test_utils import get_data_from_url\n",
    "raw_science_filename = get_data_from_url(\"17903858\")\n",
    "im = iris_pipeline.datamodels.IRISImageModel(raw_science_filename)"
   ]
  },
  {
   "cell_type": "code",
   "execution_count": null,
   "metadata": {},
   "outputs": [],
   "source": [
    "s1 = 300\n",
    "s2 = 100\n",
    "subarray_maps_metadata = []\n",
    "# square subarray\n",
    "subarray_maps_metadata.append({\"xstart\":2048-s1//2, \"ystart\":2048-s1//2, \"xsize\":s1, \"ysize\":s1})  \n",
    "# test a rectangular subarray\n",
    "subarray_maps_metadata.append({\"xstart\":1040-s2//2, \"ystart\":1040-s2//2, \"xsize\":s2, \"ysize\":s2//2})  "
   ]
  },
  {
   "cell_type": "code",
   "execution_count": null,
   "metadata": {},
   "outputs": [],
   "source": [
    "plt.imshow(im.data);"
   ]
  },
  {
   "cell_type": "code",
   "execution_count": null,
   "metadata": {},
   "outputs": [],
   "source": [
    "def set_subarray_mask(mask_array, subarray_index, xstart, ystart, xsize, ysize):\n",
    "    xstart = xstart - 1\n",
    "    ystart = ystart - 1\n",
    "    mask_array[ystart:ystart+ysize, xstart:xstart+xsize] =  subarray_index                 "
   ]
  },
  {
   "cell_type": "markdown",
   "metadata": {},
   "source": [
    "## Create subarrays\n",
    "\n",
    "* slice `data`, `dq`, `err`\n",
    "* set metadata"
   ]
  },
  {
   "cell_type": "code",
   "execution_count": null,
   "metadata": {},
   "outputs": [],
   "source": [
    "def slice_subarray_mask(mask_array, xstart, ystart, xsize, ysize):\n",
    "    xstart = xstart - 1\n",
    "    ystart = ystart - 1\n",
    "    return mask_array[ystart:ystart+ysize, xstart:xstart+xsize].copy()            "
   ]
  },
  {
   "cell_type": "code",
   "execution_count": null,
   "metadata": {},
   "outputs": [],
   "source": [
    "subarray_im = {}\n",
    "for i, shape in enumerate(subarray_maps_metadata):\n",
    "    subarray_im[i+1] = im.copy()\n",
    "    for ext in [\"data\", \"dq\", \"err\"]:\n",
    "        subarray_im[i+1][ext] = slice_subarray_mask(im[ext], **shape)"
   ]
  },
  {
   "cell_type": "code",
   "execution_count": null,
   "metadata": {},
   "outputs": [],
   "source": [
    "for i, shape in enumerate(subarray_maps_metadata):\n",
    "    subarray_im[i+1].meta.subarray.name = \"CUSTOM\"\n",
    "    subarray_im[i+1].meta.subarray.id = i+1  \n",
    "    for k, v in shape.items():\n",
    "        setattr(subarray_im[i+1].meta.subarray, k, v)"
   ]
  },
  {
   "cell_type": "code",
   "execution_count": null,
   "metadata": {},
   "outputs": [],
   "source": [
    "subarray_im[1].meta.subarray.xsize"
   ]
  },
  {
   "cell_type": "code",
   "execution_count": null,
   "metadata": {},
   "outputs": [],
   "source": [
    "im.subarr_map = np.zeros_like(im.data)\n",
    "\n",
    "for i, shape in enumerate(subarray_maps_metadata):\n",
    "    set_subarray_mask(im.subarr_map, subarray_index=i+1, **shape)"
   ]
  },
  {
   "cell_type": "code",
   "execution_count": null,
   "metadata": {},
   "outputs": [],
   "source": [
    "plt.imshow(subarray_im[1].data);"
   ]
  },
  {
   "cell_type": "code",
   "execution_count": null,
   "metadata": {},
   "outputs": [],
   "source": [
    "plt.imshow(subarray_im[2].data);"
   ]
  },
  {
   "cell_type": "code",
   "execution_count": null,
   "metadata": {},
   "outputs": [],
   "source": [
    "plt.imshow(im.subarr_map);"
   ]
  },
  {
   "cell_type": "code",
   "execution_count": null,
   "metadata": {},
   "outputs": [],
   "source": [
    "im.data[im.subarr_map != 0] = np.nan"
   ]
  },
  {
   "cell_type": "code",
   "execution_count": null,
   "metadata": {},
   "outputs": [],
   "source": [
    "full_frame_filename = \"data/raw_science_frame_sci_with_subarrays.fits\"\n",
    "im.write(full_frame_filename)"
   ]
  },
  {
   "cell_type": "code",
   "execution_count": null,
   "metadata": {},
   "outputs": [],
   "source": [
    "subarray_filename_template = \"data/raw_science_frame_sci_subarray_{}.fits\"\n",
    "for k,v in subarray_im.items():\n",
    "    v.write(subarray_filename_template.format(k))"
   ]
  },
  {
   "cell_type": "code",
   "execution_count": null,
   "metadata": {},
   "outputs": [],
   "source": [
    "plt.imshow(subarray_im[1].data)"
   ]
  },
  {
   "cell_type": "code",
   "execution_count": null,
   "metadata": {},
   "outputs": [],
   "source": [
    "!ls -lah data/*science*sub*fits"
   ]
  },
  {
   "cell_type": "markdown",
   "metadata": {},
   "source": [
    "## Run the image2 pipeline"
   ]
  },
  {
   "cell_type": "code",
   "execution_count": null,
   "metadata": {},
   "outputs": [],
   "source": [
    "pipeline = iris_pipeline.ProcessImagerL2Pipeline()\n",
    "\n",
    "reduced_full_frame = pipeline.call(full_frame_filename,\n",
    "             config_file=\"data/image2_iris.cfg\")[0]"
   ]
  },
  {
   "cell_type": "code",
   "execution_count": null,
   "metadata": {},
   "outputs": [],
   "source": [
    "reduced_full_frame.meta.subarray.id = 0"
   ]
  },
  {
   "cell_type": "code",
   "execution_count": null,
   "metadata": {},
   "outputs": [],
   "source": [
    "reduced_full_frame.write(full_frame_filename.replace(\"raw\", \"reduced\"))"
   ]
  },
  {
   "cell_type": "code",
   "execution_count": null,
   "metadata": {},
   "outputs": [],
   "source": [
    "full_frame_filename.replace(\"raw\", \"reduced\")"
   ]
  },
  {
   "cell_type": "code",
   "execution_count": null,
   "metadata": {},
   "outputs": [],
   "source": [
    "reduced_subarray = {}\n",
    "for i in [1,2]:\n",
    "    reduced_subarray[i] = pipeline.call(subarray_filename_template.format(i),\n",
    "             config_file=\"data/image2_iris.cfg\")[0]\n",
    "    reduced_subarray[i].write(subarray_filename_template.format(i).replace(\"raw\", \"reduced\"))\n"
   ]
  },
  {
   "cell_type": "markdown",
   "metadata": {},
   "source": [
    "## Check the output has correct metadata"
   ]
  },
  {
   "cell_type": "code",
   "execution_count": null,
   "metadata": {},
   "outputs": [],
   "source": [
    "i = 1\n",
    "for full_frame_meta, each_input in zip(reduced_full_frame.meta.subarray_map, subarray_maps_metadata):\n",
    "    assert full_frame_meta.instance == each_input\n",
    "    assert reduced_subarray[i].meta.subarray.instance == dict(name=\"CUSTOM\", id=i, **each_input)\n",
    "    i += 1"
   ]
  },
  {
   "cell_type": "code",
   "execution_count": null,
   "metadata": {},
   "outputs": [],
   "source": [
    "plt.imshow(reduced_full_frame.data);"
   ]
  },
  {
   "cell_type": "code",
   "execution_count": null,
   "metadata": {},
   "outputs": [],
   "source": [
    "plt.imshow(reduced_subarray[1].dq)"
   ]
  },
  {
   "cell_type": "code",
   "execution_count": null,
   "metadata": {},
   "outputs": [],
   "source": [
    "plt.imshow(reduced_subarray[1].data);"
   ]
  },
  {
   "cell_type": "code",
   "execution_count": null,
   "metadata": {},
   "outputs": [],
   "source": [
    "plt.imshow(reduced_subarray[2].data);"
   ]
  }
 ],
 "metadata": {
  "kernelspec": {
   "display_name": "jwst",
   "language": "python",
   "name": "jwst"
  },
  "language_info": {
   "codemirror_mode": {
    "name": "ipython",
    "version": 3
   },
   "file_extension": ".py",
   "mimetype": "text/x-python",
   "name": "python",
   "nbconvert_exporter": "python",
   "pygments_lexer": "ipython3",
   "version": "3.6.9"
  }
 },
 "nbformat": 4,
 "nbformat_minor": 4
}
